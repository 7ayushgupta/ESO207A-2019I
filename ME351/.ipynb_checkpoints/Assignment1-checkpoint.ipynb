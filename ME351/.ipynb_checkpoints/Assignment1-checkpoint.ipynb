{
 "cells": [
  {
   "cell_type": "markdown",
   "metadata": {},
   "source": [
    "# Question 1"
   ]
  },
  {
   "cell_type": "code",
   "execution_count": 124,
   "metadata": {},
   "outputs": [],
   "source": [
    "from math import sin, cos, sqrt, radians, pi"
   ]
  },
  {
   "cell_type": "code",
   "execution_count": 114,
   "metadata": {},
   "outputs": [
    {
     "name": "stdout",
     "output_type": "stream",
     "text": [
      "340\n",
      "63\n",
      "0\n",
      "403\n"
     ]
    }
   ],
   "source": [
    "roll_no = \"170210\"\n",
    "print((int)(roll_no[:3])*2)\n",
    "print((int)(roll_no[3:5])*3)\n",
    "print((int)(roll_no[5])*20)\n",
    "p_a = (int)(roll_no[:3])*2 + (int)(roll_no[3:5])*3 + (int)(roll_no[5])*20\n",
    "print(p_a)"
   ]
  },
  {
   "cell_type": "code",
   "execution_count": 115,
   "metadata": {},
   "outputs": [
    {
     "name": "stdout",
     "output_type": "stream",
     "text": [
      "(614000, 0.0, 2.007128639793479, 0.3, 0.03, 0.125, 0.12265398485169571, 1.5707963267948966)\n"
     ]
    }
   ],
   "source": [
    "p_a = 614*1000\n",
    "theta1 = radians(0)\n",
    "theta2 = radians(115)\n",
    "f = 0.30\n",
    "b = 0.030\n",
    "r = .125\n",
    "a = sqrt(112*112 + 50*50)*0.001\n",
    "theta_a = radians(90)\n",
    "print(p_a, theta1, theta2, f, b, r, a, theta_a)"
   ]
  },
  {
   "cell_type": "code",
   "execution_count": 116,
   "metadata": {},
   "outputs": [
    {
     "name": "stdout",
     "output_type": "stream",
     "text": [
      "88.0386232911\n"
     ]
    }
   ],
   "source": [
    "m_f = f*p_a*b*r*(r - r*cos(theta2) - a/2*(sin(theta2)**2))/sin(theta_a)\n",
    "print(m_f)"
   ]
  },
  {
   "cell_type": "code",
   "execution_count": 117,
   "metadata": {},
   "outputs": [
    {
     "name": "stdout",
     "output_type": "stream",
     "text": [
      "337.502208582\n"
     ]
    }
   ],
   "source": [
    "m_n = p_a*b*r*a*(theta2/2 - sin(radians(230))/4)/sin(theta_a)\n",
    "print(m_n)"
   ]
  },
  {
   "cell_type": "code",
   "execution_count": 118,
   "metadata": {},
   "outputs": [
    {
     "name": "stdout",
     "output_type": "stream",
     "text": [
      "1.17671502496\n"
     ]
    }
   ],
   "source": [
    "c = 212\n",
    "force = (m_n - m_f)/c\n",
    "print(force)"
   ]
  },
  {
   "cell_type": "code",
   "execution_count": 119,
   "metadata": {},
   "outputs": [
    {
     "name": "stdout",
     "output_type": "stream",
     "text": [
      "359943.464636\n"
     ]
    }
   ],
   "source": [
    "# for left show\n",
    "p_a_new = force*c/(m_n + m_f)*p_a\n",
    "print(p_a_new)"
   ]
  },
  {
   "cell_type": "code",
   "execution_count": 120,
   "metadata": {},
   "outputs": [
    {
     "name": "stdout",
     "output_type": "stream",
     "text": [
      "72.0087392793\n"
     ]
    }
   ],
   "source": [
    "T_l = f*p_a_new*b*r*r*(cos(theta1) - cos(theta2))/sin(theta_a)\n",
    "print(T_l)"
   ]
  },
  {
   "cell_type": "code",
   "execution_count": 121,
   "metadata": {},
   "outputs": [
    {
     "name": "stdout",
     "output_type": "stream",
     "text": [
      "122.834195537\n"
     ]
    }
   ],
   "source": [
    "T_r = f*p_a*b*r*r*(cos(theta1) - cos(theta2))/sin(theta_a)\n",
    "print(T_r)"
   ]
  },
  {
   "cell_type": "code",
   "execution_count": 122,
   "metadata": {},
   "outputs": [
    {
     "name": "stdout",
     "output_type": "stream",
     "text": [
      "194.842934816\n"
     ]
    }
   ],
   "source": [
    "total_T = T_r + T_l\n",
    "print(total_T)"
   ]
  },
  {
   "cell_type": "markdown",
   "metadata": {},
   "source": [
    "# Question 2"
   ]
  },
  {
   "cell_type": "markdown",
   "metadata": {},
   "source": [
    "## Single plate clutch"
   ]
  },
  {
   "cell_type": "code",
   "execution_count": 153,
   "metadata": {},
   "outputs": [],
   "source": [
    "from decimal import *\n",
    "getcontext().prec = 10000"
   ]
  },
  {
   "cell_type": "code",
   "execution_count": 154,
   "metadata": {},
   "outputs": [
    {
     "name": "stdout",
     "output_type": "stream",
     "text": [
      "(400, 2.5, 0.3, 614000)\n"
     ]
    }
   ],
   "source": [
    "T = 400\n",
    "x = 2.5\n",
    "f = 0.3\n",
    "print(T,x,f,p_a)"
   ]
  },
  {
   "cell_type": "code",
   "execution_count": 158,
   "metadata": {},
   "outputs": [
    {
     "name": "stdout",
     "output_type": "stream",
     "text": [
      "0.101745933049\n"
     ]
    }
   ],
   "source": [
    "d = ((8*T)/(f*(x+1)*(x-1)*pi*p_a))**(1./3)\n",
    "print(d)"
   ]
  },
  {
   "cell_type": "code",
   "execution_count": 159,
   "metadata": {},
   "outputs": [
    {
     "name": "stdout",
     "output_type": "stream",
     "text": [
      "14976.6135917\n"
     ]
    }
   ],
   "source": [
    "F = 4*T/(f*(x+1)*d)\n",
    "print(F)"
   ]
  },
  {
   "cell_type": "markdown",
   "metadata": {},
   "source": [
    "## Multi Clutch - Uniform Wear"
   ]
  },
  {
   "cell_type": "code",
   "execution_count": 163,
   "metadata": {},
   "outputs": [],
   "source": [
    "contact_num = 5"
   ]
  },
  {
   "cell_type": "code",
   "execution_count": 164,
   "metadata": {},
   "outputs": [
    {
     "name": "stdout",
     "output_type": "stream",
     "text": [
      "0.0595013826054\n"
     ]
    }
   ],
   "source": [
    "d = ((8*T)/(f*(x+1)*contact_num*(x-1)*pi*p_a))**(1./3)\n",
    "print(d)"
   ]
  },
  {
   "cell_type": "code",
   "execution_count": 167,
   "metadata": {},
   "outputs": [
    {
     "name": "stdout",
     "output_type": "stream",
     "text": [
      "5121.92980091\n"
     ]
    }
   ],
   "source": [
    "F = 4*T/(f*(x+1)*contact_num*d)\n",
    "print(F)"
   ]
  },
  {
   "cell_type": "markdown",
   "metadata": {},
   "source": [
    "# Multi Clutch - Uniform Pressure"
   ]
  },
  {
   "cell_type": "code",
   "execution_count": 170,
   "metadata": {},
   "outputs": [
    {
     "name": "stdout",
     "output_type": "stream",
     "text": [
      "0.00829472016114\n"
     ]
    }
   ],
   "source": [
    "d = 12*T/(f*p_a*pi)\n",
    "print(d)"
   ]
  },
  {
   "cell_type": "code",
   "execution_count": 173,
   "metadata": {},
   "outputs": [
    {
     "name": "stdout",
     "output_type": "stream",
     "text": [
      "1435.8974359\n"
     ]
    }
   ],
   "source": [
    "Fd = (3*T*(x**2-1))/((x**3-1)*f)\n",
    "print(Fd)"
   ]
  },
  {
   "cell_type": "code",
   "execution_count": 175,
   "metadata": {},
   "outputs": [
    {
     "name": "stdout",
     "output_type": "stream",
     "text": [
      "173109.810579\n"
     ]
    }
   ],
   "source": [
    "F = Fd/d\n",
    "print(F)"
   ]
  },
  {
   "cell_type": "code",
   "execution_count": null,
   "metadata": {},
   "outputs": [],
   "source": []
  }
 ],
 "metadata": {
  "kernelspec": {
   "display_name": "Python 3",
   "language": "python",
   "name": "python3"
  },
  "language_info": {
   "codemirror_mode": {
    "name": "ipython",
    "version": 2
   },
   "file_extension": ".py",
   "mimetype": "text/x-python",
   "name": "python",
   "nbconvert_exporter": "python",
   "pygments_lexer": "ipython2",
   "version": "2.7.17"
  }
 },
 "nbformat": 4,
 "nbformat_minor": 2
}
