{
 "cells": [
  {
   "cell_type": "markdown",
   "metadata": {},
   "source": [
    "# Question 1"
   ]
  },
  {
   "cell_type": "code",
   "execution_count": 35,
   "metadata": {},
   "outputs": [],
   "source": [
    "from math import sin, cos, sqrt, radians, pi"
   ]
  },
  {
   "cell_type": "code",
   "execution_count": 189,
   "metadata": {},
   "outputs": [
    {
     "name": "stdout",
     "output_type": "stream",
     "text": [
      "340\n",
      "273\n",
      "20\n",
      "633\n"
     ]
    }
   ],
   "source": [
    "roll_no = \"170191\"\n",
    "print((int)(roll_no[:3])*2)\n",
    "print((int)(roll_no[4:6])*3)\n",
    "print((int)(roll_no[5])*20)\n",
    "p_a = (int)(roll_no[:3])*2 + (int)(roll_no[4:6])*3 + (int)(roll_no[5])*20\n",
    "print(p_a)\n",
    "p_a = p_a*1000"
   ]
  },
  {
   "cell_type": "code",
   "execution_count": 190,
   "metadata": {},
   "outputs": [
    {
     "name": "stdout",
     "output_type": "stream",
     "text": [
      "(633000, 0.0, 2.007128639793479, 0.3, 0.03, 0.125, 0.12265398485169571, 1.5707963267948966)\n"
     ]
    }
   ],
   "source": [
    "theta1 = radians(0)\n",
    "theta2 = radians(115)\n",
    "f = 0.30\n",
    "b = 0.030\n",
    "r = .125\n",
    "a = sqrt(112*112 + 50*50)*0.001\n",
    "theta_a = radians(90)\n",
    "print(p_a, theta1, theta2, f, b, r, a, theta_a)"
   ]
  },
  {
   "cell_type": "code",
   "execution_count": 191,
   "metadata": {},
   "outputs": [
    {
     "name": "stdout",
     "output_type": "stream",
     "text": [
      "90.7629455102\n"
     ]
    }
   ],
   "source": [
    "m_f = f*p_a*b*r*(r - r*cos(theta2) - a/2*(sin(theta2)**2))/sin(theta_a)\n",
    "print(m_f)"
   ]
  },
  {
   "cell_type": "code",
   "execution_count": 192,
   "metadata": {},
   "outputs": [
    {
     "name": "stdout",
     "output_type": "stream",
     "text": [
      "347.946088001\n"
     ]
    }
   ],
   "source": [
    "m_n = p_a*b*r*a*(theta2/2 - sin(radians(230))/4)/sin(theta_a)\n",
    "print(m_n)"
   ]
  },
  {
   "cell_type": "code",
   "execution_count": 193,
   "metadata": {},
   "outputs": [
    {
     "name": "stdout",
     "output_type": "stream",
     "text": [
      "1.21312803062\n"
     ]
    }
   ],
   "source": [
    "c = 212\n",
    "force = (m_n - m_f)/c\n",
    "print(force)"
   ]
  },
  {
   "cell_type": "code",
   "execution_count": 194,
   "metadata": {},
   "outputs": [
    {
     "name": "stdout",
     "output_type": "stream",
     "text": [
      "371081.780317\n"
     ]
    }
   ],
   "source": [
    "# for left show\n",
    "p_a_new = force*c*p_a/(m_n + m_f)\n",
    "print(p_a_new)"
   ]
  },
  {
   "cell_type": "code",
   "execution_count": 195,
   "metadata": {},
   "outputs": [
    {
     "name": "stdout",
     "output_type": "stream",
     "text": [
      "74.2370227423\n"
     ]
    }
   ],
   "source": [
    "T_l = f*p_a_new*b*r*r*(cos(theta1) - cos(theta2))/sin(theta_a)\n",
    "print(T_l)"
   ]
  },
  {
   "cell_type": "code",
   "execution_count": 196,
   "metadata": {},
   "outputs": [
    {
     "name": "stdout",
     "output_type": "stream",
     "text": [
      "126.635253705\n"
     ]
    }
   ],
   "source": [
    "T_r = f*p_a*b*r*r*(cos(theta1) - cos(theta2))/sin(theta_a)\n",
    "print(T_r)"
   ]
  },
  {
   "cell_type": "code",
   "execution_count": 197,
   "metadata": {},
   "outputs": [
    {
     "name": "stdout",
     "output_type": "stream",
     "text": [
      "200.872276448\n"
     ]
    }
   ],
   "source": [
    "total_T = T_r + T_l\n",
    "print(total_T)"
   ]
  },
  {
   "cell_type": "code",
   "execution_count": 198,
   "metadata": {},
   "outputs": [
    {
     "name": "stdout",
     "output_type": "stream",
     "text": [
      "Qn1.1: Right\n",
      "Qn1.2: 633.0 kpa\n",
      "Qn1.3: 122.7 mm\n",
      "Qn1.4: 90.8 Nm\n",
      "Qn1.5: 347.9 Nm\n",
      "Qn1.6: 1213.1 N\n",
      "Qn1.7: 126.6 Nm\n",
      "Qn1.8: 371.1 kpa\n",
      "Qn1.9: 74.2 Nm\n",
      "Qn1.10: 200.9 Nm\n",
      "Qn1.11: No\n"
     ]
    }
   ],
   "source": [
    "print(\"Qn1.1: Right\")\n",
    "print(\"Qn1.2: {:.1f} kpa\".format(p_a/1000))\n",
    "print(\"Qn1.3: {:.1f} mm\".format(a*1000))\n",
    "print(\"Qn1.4: {:.1f} Nm\".format(m_f))\n",
    "print(\"Qn1.5: {:.1f} Nm\".format(m_n))\n",
    "print(\"Qn1.6: {:.1f} N\".format(force*1000))\n",
    "print(\"Qn1.7: {:.1f} Nm\".format(T_r))\n",
    "print(\"Qn1.8: {:.1f} kpa\".format(p_a_new/1000))\n",
    "print(\"Qn1.9: {:.1f} Nm\".format(T_l))\n",
    "print(\"Qn1.10: {:.1f} Nm\".format(total_T))\n",
    "print(\"Qn1.11: No\")"
   ]
  },
  {
   "cell_type": "markdown",
   "metadata": {},
   "source": [
    "# Question 2"
   ]
  },
  {
   "cell_type": "code",
   "execution_count": 199,
   "metadata": {},
   "outputs": [
    {
     "name": "stdout",
     "output_type": "stream",
     "text": [
      "340\n",
      "273\n",
      "20\n",
      "633000\n"
     ]
    }
   ],
   "source": [
    "print((int)(roll_no[:3])*2)\n",
    "print((int)(roll_no[4:6])*3)\n",
    "print((int)(roll_no[5])*20)\n",
    "p_a = ((int)(roll_no[:3])*2 + (int)(roll_no[4:6])*3 + (int)(roll_no[5])*20)*1000\n",
    "print(p_a)"
   ]
  },
  {
   "cell_type": "markdown",
   "metadata": {},
   "source": [
    "## Single plate clutch - Uniform wear"
   ]
  },
  {
   "cell_type": "code",
   "execution_count": 200,
   "metadata": {},
   "outputs": [],
   "source": [
    "from decimal import *\n",
    "getcontext().prec = 10000"
   ]
  },
  {
   "cell_type": "code",
   "execution_count": 201,
   "metadata": {},
   "outputs": [
    {
     "name": "stdout",
     "output_type": "stream",
     "text": [
      "(400, 2.5, 0.3, 633000)\n"
     ]
    }
   ],
   "source": [
    "T = 400\n",
    "x = 2.5\n",
    "f = 0.3\n",
    "print(T,x,f,p_a)"
   ]
  },
  {
   "cell_type": "code",
   "execution_count": 202,
   "metadata": {},
   "outputs": [
    {
     "name": "stdout",
     "output_type": "stream",
     "text": [
      "0.1007175793\n"
     ]
    }
   ],
   "source": [
    "d_suw = ((8*T)/(f*(x+1)*(x-1)*pi*p_a))**(1./3)\n",
    "print(d_suw)"
   ]
  },
  {
   "cell_type": "code",
   "execution_count": 203,
   "metadata": {},
   "outputs": [
    {
     "name": "stdout",
     "output_type": "stream",
     "text": [
      "15129.5288707\n"
     ]
    }
   ],
   "source": [
    "F_suw = 4*T/(f*(x+1)*d_suw)\n",
    "print(F_suw)"
   ]
  },
  {
   "cell_type": "markdown",
   "metadata": {},
   "source": [
    "## Multi clutch - Uniform pressure"
   ]
  },
  {
   "cell_type": "code",
   "execution_count": 204,
   "metadata": {},
   "outputs": [],
   "source": [
    "contact_num = 5"
   ]
  },
  {
   "cell_type": "code",
   "execution_count": 205,
   "metadata": {},
   "outputs": [
    {
     "name": "stdout",
     "output_type": "stream",
     "text": [
      "0.0479181644471\n"
     ]
    }
   ],
   "source": [
    "d_up = ((12*T)/(contact_num*f*pi*p_a*(x**3-1)))**(1./3)\n",
    "print(d_up)"
   ]
  },
  {
   "cell_type": "code",
   "execution_count": 206,
   "metadata": {},
   "outputs": [
    {
     "name": "stdout",
     "output_type": "stream",
     "text": [
      "5993.12370357\n"
     ]
    }
   ],
   "source": [
    "F_up = pi*p_a*(x**2-1)/4*d_up*d_up\n",
    "print(F_up)"
   ]
  },
  {
   "cell_type": "markdown",
   "metadata": {},
   "source": [
    "## Multi Clutch - Uniform Wear"
   ]
  },
  {
   "cell_type": "code",
   "execution_count": 207,
   "metadata": {},
   "outputs": [],
   "source": [
    "contact_num = 5"
   ]
  },
  {
   "cell_type": "code",
   "execution_count": 208,
   "metadata": {},
   "outputs": [
    {
     "name": "stdout",
     "output_type": "stream",
     "text": [
      "0.0588999976847\n"
     ]
    }
   ],
   "source": [
    "d_uw = ((8*T)/(f*(x+1)*contact_num*(x-1)*pi*p_a))**(1./3)\n",
    "print(d_uw)"
   ]
  },
  {
   "cell_type": "code",
   "execution_count": 209,
   "metadata": {},
   "outputs": [
    {
     "name": "stdout",
     "output_type": "stream",
     "text": [
      "5174.22609069\n"
     ]
    }
   ],
   "source": [
    "F_uw = 4*T/(f*(x+1)*contact_num*d_uw)\n",
    "print(F_uw)"
   ]
  },
  {
   "cell_type": "markdown",
   "metadata": {},
   "source": [
    "## Single Plate Clutch - Uniform Pressure"
   ]
  },
  {
   "cell_type": "code",
   "execution_count": 210,
   "metadata": {},
   "outputs": [
    {
     "name": "stdout",
     "output_type": "stream",
     "text": [
      "0.0819389086134\n"
     ]
    }
   ],
   "source": [
    "d_sup = (12*T/(f*p_a*pi*(x**3-1)))**(1./3)\n",
    "print(d_sup)"
   ]
  },
  {
   "cell_type": "code",
   "execution_count": 211,
   "metadata": {},
   "outputs": [
    {
     "name": "stdout",
     "output_type": "stream",
     "text": [
      "17524.0000166\n"
     ]
    }
   ],
   "source": [
    "F_sup = pi*p_a/4*(x**2-1)*d_sup**2\n",
    "print(F_sup)"
   ]
  },
  {
   "cell_type": "code",
   "execution_count": 212,
   "metadata": {},
   "outputs": [
    {
     "name": "stdout",
     "output_type": "stream",
     "text": [
      "Qn2.1: 5.000000\n",
      "Qn2.2: inner diameter in Multiple - UW: 58.9 mm\n",
      "Qn2.3: required force in Multiple - UW: 5174.2 N\n",
      "Qn2.4: inner diameter in Multiple - UP: 47.9 mm\n",
      "Qn2.5: required force in Multiple - UP: 5993.1 N\n",
      "Qn2.6: force in Single - UW: 15129.5 N\n",
      "Qn2.7: force in Single - UP: 17524.0 N\n"
     ]
    }
   ],
   "source": [
    "print(\"Qn2.1: {:f}\".format(contact_num))\n",
    "print(\"Qn2.2: inner diameter in Multiple - UW: {:.1f} mm\".format(d_uw*1000))\n",
    "print(\"Qn2.3: required force in Multiple - UW: {:.1f} N\".format(F_uw))\n",
    "print(\"Qn2.4: inner diameter in Multiple - UP: {:.1f} mm\".format(d_up*1000))\n",
    "print(\"Qn2.5: required force in Multiple - UP: {:.1f} N\".format(F_up))\n",
    "print(\"Qn2.6: force in Single - UW: {:.1f} N\".format(F_suw))\n",
    "print(\"Qn2.7: force in Single - UP: {:.1f} N\".format(F_sup))"
   ]
  },
  {
   "cell_type": "code",
   "execution_count": null,
   "metadata": {},
   "outputs": [],
   "source": []
  },
  {
   "cell_type": "code",
   "execution_count": 213,
   "metadata": {},
   "outputs": [
    {
     "name": "stdout",
     "output_type": "stream",
     "text": [
      "170191\n",
      "Qn1.1: Right\n",
      "Qn1.2: 633.0 kpa\n",
      "Qn1.3: 122.7 mm\n",
      "Qn1.4: 90.8 Nm\n",
      "Qn1.5: 347.9 Nm\n",
      "Qn1.6: 1213.1 N\n",
      "Qn1.7: 126.6 Nm\n",
      "Qn1.8: 371.1 kpa\n",
      "Qn1.9: 74.2 Nm\n",
      "Qn1.10: 200.9 Nm\n",
      "Qn1.11: No\n",
      "-------------------\n",
      "Qn2.1: 5.000000\n",
      "Qn2.2: inner diameter in Multiple - UW: 58.9 mm\n",
      "Qn2.3: required force in Multiple - UW: 5174.2 N\n",
      "Qn2.4: inner diameter in Multiple - UP: 47.9 mm\n",
      "Qn2.5: required force in Multiple - UP: 5993.1 N\n",
      "Qn2.6: force in Single - UW: 15129.5 N\n",
      "Qn2.7: force in Single - UP: 17524.0 N\n"
     ]
    }
   ],
   "source": [
    "print(roll_no)\n",
    "print(\"Qn1.1: Right\")\n",
    "print(\"Qn1.2: {:.1f} kpa\".format(p_a/1000))\n",
    "print(\"Qn1.3: {:.1f} mm\".format(a*1000))\n",
    "print(\"Qn1.4: {:.1f} Nm\".format(m_f))\n",
    "print(\"Qn1.5: {:.1f} Nm\".format(m_n))\n",
    "print(\"Qn1.6: {:.1f} N\".format(force*1000))\n",
    "print(\"Qn1.7: {:.1f} Nm\".format(T_r))\n",
    "print(\"Qn1.8: {:.1f} kpa\".format(p_a_new/1000))\n",
    "print(\"Qn1.9: {:.1f} Nm\".format(T_l))\n",
    "print(\"Qn1.10: {:.1f} Nm\".format(total_T))\n",
    "print(\"Qn1.11: No\")\n",
    "print(\"-------------------\")\n",
    "print(\"Qn2.1: {:f}\".format(contact_num))\n",
    "print(\"Qn2.2: inner diameter in Multiple - UW: {:.1f} mm\".format(d_uw*1000))\n",
    "print(\"Qn2.3: required force in Multiple - UW: {:.1f} N\".format(F_uw))\n",
    "print(\"Qn2.4: inner diameter in Multiple - UP: {:.1f} mm\".format(d_up*1000))\n",
    "print(\"Qn2.5: required force in Multiple - UP: {:.1f} N\".format(F_up))\n",
    "print(\"Qn2.6: force in Single - UW: {:.1f} N\".format(F_suw))\n",
    "print(\"Qn2.7: force in Single - UP: {:.1f} N\".format(F_sup))"
   ]
  },
  {
   "cell_type": "code",
   "execution_count": null,
   "metadata": {},
   "outputs": [],
   "source": []
  },
  {
   "cell_type": "code",
   "execution_count": null,
   "metadata": {},
   "outputs": [],
   "source": []
  }
 ],
 "metadata": {
  "kernelspec": {
   "display_name": "Python 3",
   "language": "python",
   "name": "python3"
  },
  "language_info": {
   "codemirror_mode": {
    "name": "ipython",
    "version": 2
   },
   "file_extension": ".py",
   "mimetype": "text/x-python",
   "name": "python",
   "nbconvert_exporter": "python",
   "pygments_lexer": "ipython2",
   "version": "2.7.17"
  }
 },
 "nbformat": 4,
 "nbformat_minor": 2
}
